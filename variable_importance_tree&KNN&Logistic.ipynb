{
 "cells": [
  {
   "cell_type": "code",
   "execution_count": 1,
   "metadata": {},
   "outputs": [
    {
     "name": "stdout",
     "output_type": "stream",
     "text": [
      "Populating the interactive namespace from numpy and matplotlib\n"
     ]
    }
   ],
   "source": [
    "import pandas as pd\n",
    "import numpy as np\n",
    "from patsy import dmatrices\n",
    "import warnings\n",
    "%pylab inline\n",
    "warnings.filterwarnings('ignore')"
   ]
  },
  {
   "cell_type": "code",
   "execution_count": 2,
   "metadata": {},
   "outputs": [],
   "source": [
    "#read in data\n",
    "organic = pd.read_csv('Organics Project Data.csv', names = ['Gender', 'Geographic_Region', 'Loyalty_Status', \\\n",
    "                                                           'Television_Region', 'Affluence_Grade', 'Age',\\\n",
    "                                                            'Loyalty_Card_Tenure', 'target'], skiprows = [0])"
   ]
  },
  {
   "cell_type": "code",
   "execution_count": 3,
   "metadata": {},
   "outputs": [
    {
     "data": {
      "text/html": [
       "<div>\n",
       "<style scoped>\n",
       "    .dataframe tbody tr th:only-of-type {\n",
       "        vertical-align: middle;\n",
       "    }\n",
       "\n",
       "    .dataframe tbody tr th {\n",
       "        vertical-align: top;\n",
       "    }\n",
       "\n",
       "    .dataframe thead th {\n",
       "        text-align: right;\n",
       "    }\n",
       "</style>\n",
       "<table border=\"1\" class=\"dataframe\">\n",
       "  <thead>\n",
       "    <tr style=\"text-align: right;\">\n",
       "      <th></th>\n",
       "      <th>Gender</th>\n",
       "      <th>Geographic_Region</th>\n",
       "      <th>Loyalty_Status</th>\n",
       "      <th>Television_Region</th>\n",
       "      <th>Affluence_Grade</th>\n",
       "      <th>Age</th>\n",
       "      <th>Loyalty_Card_Tenure</th>\n",
       "      <th>target</th>\n",
       "    </tr>\n",
       "  </thead>\n",
       "  <tbody>\n",
       "    <tr>\n",
       "      <th>0</th>\n",
       "      <td>M</td>\n",
       "      <td>Midlands</td>\n",
       "      <td>Tin</td>\n",
       "      <td>Midlands</td>\n",
       "      <td>10</td>\n",
       "      <td>65</td>\n",
       "      <td>7</td>\n",
       "      <td>1</td>\n",
       "    </tr>\n",
       "    <tr>\n",
       "      <th>1</th>\n",
       "      <td>M</td>\n",
       "      <td>North</td>\n",
       "      <td>Tin</td>\n",
       "      <td>N East</td>\n",
       "      <td>13</td>\n",
       "      <td>62</td>\n",
       "      <td>5</td>\n",
       "      <td>0</td>\n",
       "    </tr>\n",
       "    <tr>\n",
       "      <th>2</th>\n",
       "      <td>M</td>\n",
       "      <td>Midlands</td>\n",
       "      <td>Silver</td>\n",
       "      <td>East</td>\n",
       "      <td>10</td>\n",
       "      <td>62</td>\n",
       "      <td>3</td>\n",
       "      <td>0</td>\n",
       "    </tr>\n",
       "  </tbody>\n",
       "</table>\n",
       "</div>"
      ],
      "text/plain": [
       "  Gender Geographic_Region Loyalty_Status Television_Region  Affluence_Grade  \\\n",
       "0      M          Midlands            Tin          Midlands               10   \n",
       "1      M             North            Tin            N East               13   \n",
       "2      M          Midlands         Silver              East               10   \n",
       "\n",
       "   Age  Loyalty_Card_Tenure  target  \n",
       "0   65                    7       1  \n",
       "1   62                    5       0  \n",
       "2   62                    3       0  "
      ]
     },
     "execution_count": 3,
     "metadata": {},
     "output_type": "execute_result"
    }
   ],
   "source": [
    "#data cleaning\n",
    "organic = organic.dropna()\n",
    "organic = organic[organic.Age != \".\"]\n",
    "organic = organic[organic['Loyalty_Card_Tenure'] != \".\"]\n",
    "organic = organic[organic['Affluence_Grade'] != \".\"]\n",
    "organic['Age'] = organic['Age'].astype(np.int64)\n",
    "organic['Loyalty_Card_Tenure'] = organic['Loyalty_Card_Tenure'].astype(np.int64)\n",
    "organic['Affluence_Grade'] = organic['Affluence_Grade'].astype(np.int64)\n",
    "organic['target'] = organic['target'].astype(np.int64)\n",
    "\n",
    "organic.head(3)"
   ]
  },
  {
   "cell_type": "code",
   "execution_count": 4,
   "metadata": {},
   "outputs": [
    {
     "data": {
      "text/html": [
       "<div>\n",
       "<style scoped>\n",
       "    .dataframe tbody tr th:only-of-type {\n",
       "        vertical-align: middle;\n",
       "    }\n",
       "\n",
       "    .dataframe tbody tr th {\n",
       "        vertical-align: top;\n",
       "    }\n",
       "\n",
       "    .dataframe thead th {\n",
       "        text-align: right;\n",
       "    }\n",
       "</style>\n",
       "<table border=\"1\" class=\"dataframe\">\n",
       "  <thead>\n",
       "    <tr style=\"text-align: right;\">\n",
       "      <th></th>\n",
       "      <th>Gender</th>\n",
       "      <th>Geographic_Region</th>\n",
       "      <th>Loyalty_Status</th>\n",
       "      <th>Television_Region</th>\n",
       "      <th>Affluence_Grade</th>\n",
       "      <th>Age</th>\n",
       "      <th>Loyalty_Card_Tenure</th>\n",
       "      <th>target</th>\n",
       "    </tr>\n",
       "  </thead>\n",
       "  <tbody>\n",
       "    <tr>\n",
       "      <th>0</th>\n",
       "      <td>M</td>\n",
       "      <td>Midlands</td>\n",
       "      <td>Tin</td>\n",
       "      <td>Midlands</td>\n",
       "      <td>10</td>\n",
       "      <td>65</td>\n",
       "      <td>7</td>\n",
       "      <td>1</td>\n",
       "    </tr>\n",
       "    <tr>\n",
       "      <th>1</th>\n",
       "      <td>M</td>\n",
       "      <td>North</td>\n",
       "      <td>Tin</td>\n",
       "      <td>N East</td>\n",
       "      <td>13</td>\n",
       "      <td>62</td>\n",
       "      <td>5</td>\n",
       "      <td>0</td>\n",
       "    </tr>\n",
       "    <tr>\n",
       "      <th>2</th>\n",
       "      <td>M</td>\n",
       "      <td>Midlands</td>\n",
       "      <td>Silver</td>\n",
       "      <td>East</td>\n",
       "      <td>10</td>\n",
       "      <td>62</td>\n",
       "      <td>3</td>\n",
       "      <td>0</td>\n",
       "    </tr>\n",
       "  </tbody>\n",
       "</table>\n",
       "</div>"
      ],
      "text/plain": [
       "  Gender Geographic_Region Loyalty_Status Television_Region  Affluence_Grade  \\\n",
       "0      M          Midlands            Tin          Midlands               10   \n",
       "1      M             North            Tin            N East               13   \n",
       "2      M          Midlands         Silver              East               10   \n",
       "\n",
       "   Age  Loyalty_Card_Tenure  target  \n",
       "0   65                    7       1  \n",
       "1   62                    5       0  \n",
       "2   62                    3       0  "
      ]
     },
     "execution_count": 4,
     "metadata": {},
     "output_type": "execute_result"
    }
   ],
   "source": [
    "organic.head(3)\n",
    "#organic['target'].unique()"
   ]
  },
  {
   "cell_type": "code",
   "execution_count": 5,
   "metadata": {},
   "outputs": [
    {
     "data": {
      "text/plain": [
       "15401"
      ]
     },
     "execution_count": 5,
     "metadata": {},
     "output_type": "execute_result"
    }
   ],
   "source": [
    "len(organic)"
   ]
  },
  {
   "cell_type": "code",
   "execution_count": 5,
   "metadata": {},
   "outputs": [
    {
     "data": {
      "text/plain": [
       "'int64'"
      ]
     },
     "execution_count": 5,
     "metadata": {},
     "output_type": "execute_result"
    }
   ],
   "source": [
    "dtype(organic['Age']).name"
   ]
  },
  {
   "cell_type": "code",
   "execution_count": 6,
   "metadata": {},
   "outputs": [],
   "source": [
    "# create matrices\n",
    "formula = 'target ~ 0 + Gender + Geographic_Region + Loyalty_Status + Television_Region'+\\\n",
    "          ' + Affluence_Grade + Age + Loyalty_Card_Tenure'\n",
    "Y, X = dmatrices(formula, organic, return_type = 'dataframe')\n",
    "Y[:5]\n",
    "y = Y['target'].values\n"
   ]
  },
  {
   "cell_type": "code",
   "execution_count": 7,
   "metadata": {},
   "outputs": [],
   "source": [
    "#split test/train data\n",
    "from sklearn.model_selection import train_test_split\n",
    "\n",
    "x_tr, x_te, y_tr, y_te = train_test_split(X, y, test_size = 0.3, random_state = 1)"
   ]
  },
  {
   "cell_type": "markdown",
   "metadata": {},
   "source": [
    "# Decision Tree"
   ]
  },
  {
   "cell_type": "markdown",
   "metadata": {},
   "source": [
    "## 1.The big tree\n"
   ]
  },
  {
   "cell_type": "code",
   "execution_count": 8,
   "metadata": {},
   "outputs": [
    {
     "name": "stdout",
     "output_type": "stream",
     "text": [
      "35\n"
     ]
    }
   ],
   "source": [
    "#model fit (the big tree)\n",
    "import warnings\n",
    "warnings.filterwarnings('ignore')\n",
    "from sklearn import tree\n",
    "\n",
    "tree1 = tree.DecisionTreeClassifier(criterion = 'entropy')\n",
    "result = tree1.fit(x_tr, y_tr)\n",
    "print(tree1.tree_.max_depth)"
   ]
  },
  {
   "cell_type": "code",
   "execution_count": 9,
   "metadata": {},
   "outputs": [
    {
     "data": {
      "text/plain": [
       "<bound method BaseDecisionTree.get_depth of DecisionTreeClassifier(ccp_alpha=0.0, class_weight=None, criterion='entropy',\n",
       "                       max_depth=None, max_features=None, max_leaf_nodes=None,\n",
       "                       min_impurity_decrease=0.0, min_impurity_split=None,\n",
       "                       min_samples_leaf=1, min_samples_split=2,\n",
       "                       min_weight_fraction_leaf=0.0, presort='deprecated',\n",
       "                       random_state=None, splitter='best')>"
      ]
     },
     "execution_count": 9,
     "metadata": {},
     "output_type": "execute_result"
    }
   ],
   "source": [
    "tree1.get_depth"
   ]
  },
  {
   "cell_type": "code",
   "execution_count": 10,
   "metadata": {},
   "outputs": [
    {
     "name": "stdout",
     "output_type": "stream",
     "text": [
      "0.988682745825603\n"
     ]
    }
   ],
   "source": [
    "#Predcition Accruacy(train)\n",
    "from sklearn import metrics\n",
    "\n",
    "tr_pred = tree1.predict(x_tr)\n",
    "tr_accruacy = metrics.accuracy_score(y_tr, tr_pred)\n",
    "print(tr_accruacy)"
   ]
  },
  {
   "cell_type": "code",
   "execution_count": 11,
   "metadata": {},
   "outputs": [
    {
     "name": "stdout",
     "output_type": "stream",
     "text": [
      "0.7169443843323956\n"
     ]
    }
   ],
   "source": [
    "#Predcition Accruacy(test)\n",
    "\n",
    "te_pred = tree1.predict(x_te)\n",
    "te_accruacy = metrics.accuracy_score(y_te, te_pred)\n",
    "print(te_accruacy)"
   ]
  },
  {
   "cell_type": "code",
   "execution_count": 12,
   "metadata": {},
   "outputs": [
    {
     "name": "stderr",
     "output_type": "stream",
     "text": [
      "dot: graph is too large for cairo-renderer bitmaps. Scaling by 0.243891 to fit\n"
     ]
    },
    {
     "data": {
      "text/plain": [
       "'Classification_4_data/incomes.png'"
      ]
     },
     "execution_count": 12,
     "metadata": {},
     "output_type": "execute_result"
    }
   ],
   "source": [
    "#plot the big tree\n",
    "import graphviz\n",
    "\n",
    "tree_chart1 = graphviz.Source(tree.export_graphviz(tree1,\n",
    "                                     out_file=None,\n",
    "                                     feature_names=X.columns.values,\n",
    "                                     filled=True))\n",
    "#output chart\n",
    "tree_chart1.render('Classification_4_data/incomes', format='png', view = True)\n"
   ]
  },
  {
   "cell_type": "code",
   "execution_count": 13,
   "metadata": {},
   "outputs": [
    {
     "data": {
      "text/plain": [
       "<matplotlib.axes._subplots.AxesSubplot at 0x7fcc11b36f50>"
      ]
     },
     "execution_count": 13,
     "metadata": {},
     "output_type": "execute_result"
    },
    {
     "data": {
      "image/png": "[encoded data removed]",
      "text/plain": [
       "<Figure size 432x288 with 1 Axes>"
      ]
     },
     "metadata": {
      "needs_background": "light"
     },
     "output_type": "display_data"
    }
   ],
   "source": [
    "# summarize feature importance\n",
    "\n",
    "dummy_columns = x_tr.columns.to_list()\n",
    "importance = tree1.feature_importances_\n",
    "# Create a zip object from two lists\n",
    "zipObj = zip(dummy_columns, importance)\n",
    "# Create a dictionary from zip object\n",
    "imp_dict = dict(zipObj)\n",
    "\n",
    "#create a dictionary of importance and convert it to a seires\n",
    "true_imp_dict = {}\n",
    "for key in imp_dict:\n",
    "    if imp_dict[key] > 0:\n",
    "        true_imp_dict[key] = imp_dict[key]\n",
    "true_imp_dict = pd.Series(true_imp_dict)\n",
    "                                      \n",
    "#plot importance\n",
    "true_imp_dict.sort_values(ascending = False).plot(kind = 'bar')"
   ]
  },
  {
   "cell_type": "markdown",
   "metadata": {},
   "source": [
    "## 2.The pruned tree (with CV)"
   ]
  },
  {
   "cell_type": "code",
   "execution_count": 14,
   "metadata": {},
   "outputs": [
    {
     "name": "stdout",
     "output_type": "stream",
     "text": [
      "for depth = 1  5-fold cv average score =  0.7543599257884972\n",
      "for depth = 2  5-fold cv average score =  0.7615027829313543\n",
      "for depth = 3  5-fold cv average score =  0.7839517625231911\n",
      "for depth = 4  5-fold cv average score =  0.7895176252319109\n",
      "for depth = 5  5-fold cv average score =  0.7892393320964749\n",
      "for depth = 6  5-fold cv average score =  0.7866419294990724\n",
      "for depth = 7  5-fold cv average score =  0.7874768089053803\n",
      "for depth = 8  5-fold cv average score =  0.7804267161410019\n",
      "for depth = 9  5-fold cv average score =  0.7814471243042671\n",
      "for depth = 10  5-fold cv average score =  0.7787569573283859\n"
     ]
    }
   ],
   "source": [
    "from sklearn.model_selection import cross_val_score, StratifiedKFold\n",
    "\n",
    "#setup k-fold\n",
    "kfold = StratifiedKFold(n_splits = 5,\n",
    "                        shuffle = True)\n",
    "\n",
    "#CV\n",
    "cv_dict = {}\n",
    "for depth in range(1, 11):\n",
    "    tree2 = tree.DecisionTreeClassifier(criterion = 'entropy', \n",
    "                                        max_depth = depth)\n",
    "    scores = cross_val_score(tree2, \n",
    "                             x_tr,\n",
    "                             y_tr,\n",
    "                             cv = kfold)\n",
    "    cv_dict[depth] = mean(scores)\n",
    "    print(\"for depth =\", depth, ' 5-fold cv average score = ', mean(scores))\n"
   ]
  },
  {
   "cell_type": "code",
   "execution_count": 15,
   "metadata": {},
   "outputs": [
    {
     "data": {
      "text/plain": [
       "Text(0.5, 0, 'Depth')"
      ]
     },
     "execution_count": 15,
     "metadata": {},
     "output_type": "execute_result"
    },
    {
     "data": {
      "image/png": "[encoded data removed]",
      "text/plain": [
       "<Figure size 432x288 with 1 Axes>"
      ]
     },
     "metadata": {
      "needs_background": "light"
     },
     "output_type": "display_data"
    }
   ],
   "source": [
    "pd.Series(cv_dict).plot()\n",
    "plt.title(\"5-Fold CV\")\n",
    "plt.ylabel(\"CV_Average_Score\")\n",
    "plt.xlabel(\"Depth\")\n"
   ]
  },
  {
   "cell_type": "code",
   "execution_count": 16,
   "metadata": {},
   "outputs": [
    {
     "name": "stdout",
     "output_type": "stream",
     "text": [
      "0.7939703153988869\n"
     ]
    }
   ],
   "source": [
    "#From above we obtain optimal depth = 4\n",
    "\n",
    "#Predcition Accruacy(train)\n",
    "tree2 = tree.DecisionTreeClassifier(criterion = 'entropy', \n",
    "                                    max_depth = 4)\n",
    "result2 = tree2.fit(x_tr, y_tr)\n",
    "tr_pred_2 = tree2.predict(x_tr)\n",
    "tr_accuracy_2 = metrics.accuracy_score(y_tr, tr_pred_2)\n",
    "print(tr_accuracy_2)"
   ]
  },
  {
   "cell_type": "code",
   "execution_count": 17,
   "metadata": {},
   "outputs": [
    {
     "name": "stdout",
     "output_type": "stream",
     "text": [
      "0.7898723220082233\n"
     ]
    }
   ],
   "source": [
    "#Predcition Accruacy(test)\n",
    "\n",
    "te_pred_2 = tree2.predict(x_te)\n",
    "te_accuracy_2 = metrics.accuracy_score(y_te, te_pred_2)\n",
    "print(te_accuracy_2)"
   ]
  },
  {
   "cell_type": "code",
   "execution_count": 18,
   "metadata": {},
   "outputs": [
    {
     "data": {
      "text/plain": [
       "'Classification_4_data/pruned_tree.png'"
      ]
     },
     "execution_count": 18,
     "metadata": {},
     "output_type": "execute_result"
    }
   ],
   "source": [
    "#plot the pruned tree\n",
    "\n",
    "tree_chart2 = graphviz.Source(tree.export_graphviz(tree2,\n",
    "                                     out_file=None,\n",
    "                                     feature_names=X.columns.values,\n",
    "                                     filled=True))\n",
    "#output chart\n",
    "tree_chart2.render('Classification_4_data/pruned_tree', format='png', view = True)"
   ]
  },
  {
   "cell_type": "code",
   "execution_count": 19,
   "metadata": {},
   "outputs": [
    {
     "data": {
      "text/plain": [
       "Text(0.5, 1.0, 'Feature Importance')"
      ]
     },
     "execution_count": 19,
     "metadata": {},
     "output_type": "execute_result"
    },
    {
     "data": {
      "image/png": "[encoded data removed]",
      "text/plain": [
       "<Figure size 432x288 with 1 Axes>"
      ]
     },
     "metadata": {
      "needs_background": "light"
     },
     "output_type": "display_data"
    }
   ],
   "source": [
    "# summarize feature importance\n",
    "\n",
    "dummy_columns = x_tr.columns.to_list()\n",
    "importance = tree2.feature_importances_\n",
    "# Create a zip object from two lists\n",
    "zipObj = zip(dummy_columns, importance)\n",
    "# Create a dictionary from zip object\n",
    "imp_dict = dict(zipObj)\n",
    "\n",
    "#create a dictionary of importance and convert it to a seires\n",
    "true_imp_dict = {}\n",
    "for key in imp_dict:\n",
    "    if imp_dict[key] > 0:\n",
    "        true_imp_dict[key] = imp_dict[key]\n",
    "true_imp_dict = pd.Series(true_imp_dict)\n",
    "                                      \n",
    "#plot importance\n",
    "true_imp_dict.sort_values().plot(kind = 'barh')\n",
    "plt.title(\"Feature Importance\")"
   ]
  },
  {
   "cell_type": "markdown",
   "metadata": {},
   "source": [
    "# KNN \n",
    "## KNN with k = 15"
   ]
  },
  {
   "cell_type": "code",
   "execution_count": 20,
   "metadata": {},
   "outputs": [
    {
     "name": "stdout",
     "output_type": "stream",
     "text": [
      "0.8031539888682746\n",
      "0.7844622376109067\n"
     ]
    }
   ],
   "source": [
    "# ## Knn Model\n",
    "from sklearn import neighbors\n",
    "\n",
    "#knn model with k = 15\n",
    "model = neighbors.KNeighborsClassifier(n_neighbors=15,\n",
    "                                       weights='uniform',\n",
    "                                       p=2)\n",
    "\n",
    "#Fit the model on the design matrices\n",
    "model.fit(x_tr, y_tr)\n",
    "\n",
    "#Predict on training\n",
    "prediction_on_training = model.predict(x_tr)\n",
    "print(metrics.accuracy_score(y_tr, prediction_on_training))\n",
    "\n",
    "#Predict on test - a little worse\n",
    "predicted_classes = model.predict(x_te)\n",
    "print(metrics.accuracy_score(y_te, predicted_classes))"
   ]
  },
  {
   "cell_type": "markdown",
   "metadata": {},
   "source": [
    "## CV to find optimal k"
   ]
  },
  {
   "cell_type": "raw",
   "metadata": {},
   "source": [
    "# ## Knn cross validation\n",
    "from sklearn.model_selection import StratifiedKFold\n",
    "\n",
    "def cv_accuracy_score(X, y, nn):\n",
    "    \"\"\"For each fold, fit the nearest neighbors model\n",
    "    with nn nearest neighbors on the train, and return accuracy\n",
    "    on the test.\"\"\"\n",
    "    \n",
    "    model = neighbors.KNeighborsClassifier(n_neighbors=nn,\n",
    "                                           weights='uniform')\n",
    "    accuracies = []\n",
    "    kfold = StratifiedKFold(n_splits=3, shuffle=True).split(X, Y)\n",
    "    for train, test in kfold:\n",
    "        \n",
    "        # Fit the model\n",
    "        model.fit(x_tr, y_tr)\n",
    "        \n",
    "        # Compute test accuracy\n",
    "        accuracy = metrics.accuracy_score(y_te, model.predict(x_te))\n",
    "        accuracies.append(accuracy)\n",
    "    \n",
    "    average_accuracy = sum(accuracies) * 1.0 / len(accuracies)\n",
    "    return average_accuracy\n",
    "\n"
   ]
  },
  {
   "cell_type": "raw",
   "metadata": {},
   "source": [
    "cv_accuracy_score(X, Y, nn=1)\n",
    "\n",
    "nn = [1] + [(x + 1) * 10 for x in range(25)]\n",
    "scores = [cv_accuracy_score(X, Y, num_nbrs) for num_nbrs in nn]\n",
    "\n",
    "\n",
    "# ## Plotting knn optimal choice\n",
    "\n",
    "# In[116]:\n",
    "\n",
    "\n",
    "plot(nn, scores)\n",
    "xlabel('Number of nearest neighbors')\n",
    "ylabel('Accuracy of classifier')\n",
    "xlim(0,200)\n",
    "ylim(.78, .81)\n",
    "\n",
    "#90 is the highest accuracy \n",
    "cv_accuracy_score(X, Y, nn=90)"
   ]
  },
  {
   "cell_type": "markdown",
   "metadata": {},
   "source": [
    "### variable importance from optimal KNN model (k=90)"
   ]
  },
  {
   "cell_type": "code",
   "execution_count": 21,
   "metadata": {},
   "outputs": [],
   "source": [
    "bestKnn = neighbors.KNeighborsClassifier(n_neighbors=90,\n",
    "                                       weights='uniform',\n",
    "                                       p=2)"
   ]
  },
  {
   "cell_type": "code",
   "execution_count": 24,
   "metadata": {},
   "outputs": [],
   "source": [
    "#Permutation importance\n",
    "from sklearn.inspection import permutation_importance\n",
    "\n",
    "# fit the model\n",
    "bestKnn.fit(X, y)\n",
    "\n",
    "# perform permutation importance\n",
    "results = permutation_importance(bestKnn, X, y, scoring='accuracy')\n",
    "\n",
    "# get importance\n",
    "importance = results.importances_mean\n"
   ]
  },
  {
   "cell_type": "code",
   "execution_count": null,
   "metadata": {},
   "outputs": [],
   "source": []
  },
  {
   "cell_type": "code",
   "execution_count": 25,
   "metadata": {},
   "outputs": [
    {
     "data": {
      "text/plain": [
       "Text(0.5, 1.0, 'Feature Importance')"
      ]
     },
     "execution_count": 25,
     "metadata": {},
     "output_type": "execute_result"
    },
    {
     "data": {
      "image/png": "[encoded data removed]",
      "text/plain": [
       "<Figure size 432x288 with 1 Axes>"
      ]
     },
     "metadata": {
      "needs_background": "light"
     },
     "output_type": "display_data"
    }
   ],
   "source": [
    "##create a dictionary about variable importance and convert it to a seires\n",
    "dummy_columns = X.columns.to_list()\n",
    "zipObj = zip(dummy_columns, importance)\n",
    "imp_dict = dict(zipObj)\n",
    "true_imp_dict = {}\n",
    "for key in imp_dict:\n",
    "    if abs(imp_dict[key]) > 0:\n",
    "        true_imp_dict[key] = abs(imp_dict[key])\n",
    "true_imp_dict = pd.Series(true_imp_dict)\n",
    "\n",
    "#plot importance\n",
    "true_imp_dict.sort_values().plot(kind = 'barh')\n",
    "plt.title(\"Feature Importance\")"
   ]
  },
  {
   "cell_type": "code",
   "execution_count": null,
   "metadata": {},
   "outputs": [],
   "source": [
    "imp_dict"
   ]
  },
  {
   "cell_type": "markdown",
   "metadata": {},
   "source": [
    "# Logistic Regression"
   ]
  },
  {
   "cell_type": "code",
   "execution_count": null,
   "metadata": {},
   "outputs": [],
   "source": [
    "x_tr"
   ]
  },
  {
   "cell_type": "code",
   "execution_count": 26,
   "metadata": {},
   "outputs": [
    {
     "data": {
      "text/html": [
       "<div>\n",
       "<style scoped>\n",
       "    .dataframe tbody tr th:only-of-type {\n",
       "        vertical-align: middle;\n",
       "    }\n",
       "\n",
       "    .dataframe tbody tr th {\n",
       "        vertical-align: top;\n",
       "    }\n",
       "\n",
       "    .dataframe thead th {\n",
       "        text-align: right;\n",
       "    }\n",
       "</style>\n",
       "<table border=\"1\" class=\"dataframe\">\n",
       "  <thead>\n",
       "    <tr style=\"text-align: right;\">\n",
       "      <th></th>\n",
       "      <th>Gender</th>\n",
       "      <th>Geographic_Region</th>\n",
       "      <th>Loyalty_Status</th>\n",
       "      <th>Television_Region</th>\n",
       "      <th>Affluence_Grade</th>\n",
       "      <th>Age</th>\n",
       "      <th>Loyalty_Card_Tenure</th>\n",
       "      <th>target</th>\n",
       "    </tr>\n",
       "  </thead>\n",
       "  <tbody>\n",
       "    <tr>\n",
       "      <th>0</th>\n",
       "      <td>M</td>\n",
       "      <td>Midlands</td>\n",
       "      <td>Tin</td>\n",
       "      <td>Midlands</td>\n",
       "      <td>0.336803</td>\n",
       "      <td>0.865714</td>\n",
       "      <td>0.096428</td>\n",
       "      <td>1</td>\n",
       "    </tr>\n",
       "    <tr>\n",
       "      <th>1</th>\n",
       "      <td>M</td>\n",
       "      <td>North</td>\n",
       "      <td>Tin</td>\n",
       "      <td>N East</td>\n",
       "      <td>1.197639</td>\n",
       "      <td>0.640446</td>\n",
       "      <td>-0.338825</td>\n",
       "      <td>0</td>\n",
       "    </tr>\n",
       "    <tr>\n",
       "      <th>2</th>\n",
       "      <td>M</td>\n",
       "      <td>Midlands</td>\n",
       "      <td>Silver</td>\n",
       "      <td>East</td>\n",
       "      <td>0.336803</td>\n",
       "      <td>0.640446</td>\n",
       "      <td>-0.774077</td>\n",
       "      <td>0</td>\n",
       "    </tr>\n",
       "  </tbody>\n",
       "</table>\n",
       "</div>"
      ],
      "text/plain": [
       "  Gender Geographic_Region Loyalty_Status Television_Region  Affluence_Grade  \\\n",
       "0      M          Midlands            Tin          Midlands         0.336803   \n",
       "1      M             North            Tin            N East         1.197639   \n",
       "2      M          Midlands         Silver              East         0.336803   \n",
       "\n",
       "        Age  Loyalty_Card_Tenure  target  \n",
       "0  0.865714             0.096428       1  \n",
       "1  0.640446            -0.338825       0  \n",
       "2  0.640446            -0.774077       0  "
      ]
     },
     "execution_count": 26,
     "metadata": {},
     "output_type": "execute_result"
    }
   ],
   "source": [
    "# scale data\n",
    "from sklearn import preprocessing\n",
    "#X_scaled = preprocessing.scale(X)\n",
    "organic['Affluence_Grade'] = preprocessing.scale(organic['Affluence_Grade'])\n",
    "organic['Age'] = preprocessing.scale(organic['Age'])\n",
    "organic['Loyalty_Card_Tenure'] = preprocessing.scale(organic['Loyalty_Card_Tenure'])\n",
    "organic.head(3)"
   ]
  },
  {
   "cell_type": "code",
   "execution_count": 27,
   "metadata": {},
   "outputs": [],
   "source": [
    "# create matrices\n",
    "formula = 'target ~ 0 + Gender + Geographic_Region + Loyalty_Status + Television_Region'+\\\n",
    "          ' + Affluence_Grade + Age + Loyalty_Card_Tenure'\n",
    "Y, X = dmatrices(formula, organic, return_type = 'dataframe')\n",
    "Y[:5]\n",
    "y = Y['target'].values\n"
   ]
  },
  {
   "cell_type": "code",
   "execution_count": 28,
   "metadata": {},
   "outputs": [],
   "source": [
    "#split test/train data\n",
    "from sklearn.model_selection import train_test_split\n",
    "\n",
    "x_tr, x_te, y_tr, y_te = train_test_split(X, y, test_size = 0.3, random_state = 1)"
   ]
  },
  {
   "cell_type": "code",
   "execution_count": 29,
   "metadata": {},
   "outputs": [],
   "source": [
    "#model fit\n",
    "from sklearn.linear_model import LogisticRegression\n",
    "logis = LogisticRegression()\n",
    "result = logis.fit(x_tr, y_tr)"
   ]
  },
  {
   "cell_type": "code",
   "execution_count": 30,
   "metadata": {},
   "outputs": [
    {
     "name": "stdout",
     "output_type": "stream",
     "text": [
      "0.7842300556586271\n"
     ]
    }
   ],
   "source": [
    "#Train Accruacy\n",
    "from sklearn import metrics\n",
    "\n",
    "tr_pred = logis.predict(x_tr)\n",
    "print(metrics.accuracy_score(y_tr, tr_pred))"
   ]
  },
  {
   "cell_type": "code",
   "execution_count": 31,
   "metadata": {},
   "outputs": [
    {
     "name": "stdout",
     "output_type": "stream",
     "text": [
      "0.7937675827742913\n"
     ]
    }
   ],
   "source": [
    "#Test Accruacy\n",
    "\n",
    "te_pred = logis.predict(x_te)\n",
    "print(metrics.accuracy_score(y_te, te_pred))"
   ]
  },
  {
   "cell_type": "code",
   "execution_count": 32,
   "metadata": {},
   "outputs": [
    {
     "data": {
      "text/plain": [
       "<matplotlib.axes._subplots.AxesSubplot at 0x7fcc12602cd0>"
      ]
     },
     "execution_count": 32,
     "metadata": {},
     "output_type": "execute_result"
    },
    {
     "data": {
      "image/png": "[encoded data removed]",
      "text/plain": [
       "<Figure size 432x288 with 1 Axes>"
      ]
     },
     "metadata": {
      "needs_background": "light"
     },
     "output_type": "display_data"
    }
   ],
   "source": [
    "#Feature weight\n",
    "\n",
    "weights = pd.Series(logis.coef_[0], \n",
    "                 index = X.columns.values)\n",
    "##create a dictionary about variable importance and convert it to a seires\n",
    "dummy_columns = X.columns.to_list()\n",
    "zipObj = zip(dummy_columns, weights)\n",
    "imp_dict = dict(zipObj)\n",
    "true_imp_dict = {}\n",
    "for key in imp_dict:\n",
    "    if abs(imp_dict[key]) > 0:\n",
    "        true_imp_dict[key] = abs(imp_dict[key])\n",
    "true_imp_dict = pd.Series(true_imp_dict)\n",
    "\n",
    "#plot importance\n",
    "true_imp_dict.sort_values().plot(kind = 'barh')"
   ]
  },
  {
   "cell_type": "code",
   "execution_count": null,
   "metadata": {},
   "outputs": [],
   "source": []
  },
  {
   "cell_type": "code",
   "execution_count": null,
   "metadata": {},
   "outputs": [],
   "source": []
  },
  {
   "cell_type": "code",
   "execution_count": null,
   "metadata": {},
   "outputs": [],
   "source": []
  },
  {
   "cell_type": "code",
   "execution_count": null,
   "metadata": {},
   "outputs": [],
   "source": []
  },
  {
   "cell_type": "code",
   "execution_count": null,
   "metadata": {},
   "outputs": [],
   "source": []
  },
  {
   "cell_type": "code",
   "execution_count": null,
   "metadata": {},
   "outputs": [],
   "source": []
  }
 ],
 "metadata": {
  "kernelspec": {
   "display_name": "Python 3",
   "language": "python",
   "name": "python3"
  },
  "language_info": {
   "codemirror_mode": {
    "name": "ipython",
    "version": 3
   },
   "file_extension": ".py",
   "mimetype": "text/x-python",
   "name": "python",
   "nbconvert_exporter": "python",
   "pygments_lexer": "ipython3",
   "version": "3.7.6"
  }
 },
 "nbformat": 4,
 "nbformat_minor": 4
}
